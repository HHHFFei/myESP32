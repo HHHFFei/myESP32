{
 "cells": [
  {
   "cell_type": "code",
   "execution_count": 18,
   "metadata": {},
   "outputs": [
    {
     "name": "stdout",
     "output_type": "stream",
     "text": [
      "颜色信息已成功写入文件： deepslate_diamond_ore.txt\n"
     ]
    }
   ],
   "source": [
    "from PIL import Image\n",
    "filename = \"deepslate_diamond_ore\"\n",
    "\n",
    "# 打开图片文件\n",
    "image_path = filename + \".png\"  # 替换成你的图片路径\n",
    "image = Image.open(image_path)\n",
    "\n",
    "# 获取图片的像素数据\n",
    "pixels = image.load()\n",
    "\n",
    "# 创建一个文本文件用于存储像素颜色信息\n",
    "output_file = filename + \".txt\"\n",
    "with open(output_file, \"w\") as f:\n",
    "    # 遍历每个像素并将颜色信息写入文本文件\n",
    "    for y in range(image.height):\n",
    "        for x in range(image.width):\n",
    "            if(y%2 == 0):   # 奇数行，从左到右\n",
    "                pixel_color = pixels[x, y]\n",
    "                # 将像素颜色信息写入文件，格式为 x,y: (R, G, B)\n",
    "                # f.write(f\"{x},{y}: {pixel_color}\\n\")\n",
    "            else:           # 偶数行，从右到左\n",
    "                pixel_color = pixels[image.width-1-x, y]\n",
    "                # 将像素颜色信息写入文件，格式为 x,y: (R, G, B)\n",
    "                # f.write(f\"{image.width-1-x},{y}: {pixel_color}\\n\")\n",
    "                \n",
    "            f.write(f\"{pixel_color}\\n\")\n",
    "\n",
    "print(\"颜色信息已成功写入文件：\", output_file)\n"
   ]
  }
 ],
 "metadata": {
  "kernelspec": {
   "display_name": "Python 3",
   "language": "python",
   "name": "python3"
  },
  "language_info": {
   "codemirror_mode": {
    "name": "ipython",
    "version": 3
   },
   "file_extension": ".py",
   "mimetype": "text/x-python",
   "name": "python",
   "nbconvert_exporter": "python",
   "pygments_lexer": "ipython3",
   "version": "3.11.5"
  }
 },
 "nbformat": 4,
 "nbformat_minor": 2
}
